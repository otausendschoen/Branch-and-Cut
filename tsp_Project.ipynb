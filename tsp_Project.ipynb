{
 "cells": [
  {
   "cell_type": "code",
   "execution_count": 37,
   "metadata": {},
   "outputs": [],
   "source": [
    "from __future__ import annotations\n",
    "from typing import Tuple, List, Dict, KeysView, Iterable\n",
    "from random import uniform\n",
    "from gurobipy import Model, tupledict, GurobiError, GRB"
   ]
  },
  {
   "cell_type": "code",
   "execution_count": 114,
   "metadata": {},
   "outputs": [],
   "source": [
    "Vertex = int\n",
    "Arc = Tuple[Vertex, Vertex]\n",
    "Tour = List[Vertex]\n",
    "\n",
    "class TSPIntance:\n",
    "    n: int\n",
    "    x: List[float] #contains x coordinates for all our vertices \n",
    "    y : List[float]\n",
    "    cost: Dict[Arc, float] #contains y coordinates for all our vertices. Vertex i is formed by x[i], y[i]\n",
    "    \n",
    "\n",
    "    def __init__(self, x: List[float], y: List[float], costs:List[float]):\n",
    "        assert len(x) == len(y), \"nodes and costs lists must have the same length\"\n",
    "\n",
    "        self.n = len(x)\n",
    "        self.x = x\n",
    "        self.y = y\n",
    "        self.cost = {}\n",
    "        cost_index = 0\n",
    "        for i in self.vertices():\n",
    "            for j in self.vertices():\n",
    "                if i != j:\n",
    "                    self.cost[(i, j)] = costs[cost_index]\n",
    "                    cost_index += 1\n",
    "\n",
    "    def vertices(self) -> Iterable[Vertex]: #we define this so we can easily compute self.cost\n",
    "        return range(self.n)\n",
    "    \n",
    "    def arcs(self) -> KeysView:\n",
    "        return self.cost.keys()\n",
    "\n",
    "    @staticmethod\n",
    "    def random(n: int) -> TSPIntance:\n",
    "        x = [uniform(0, 10) for _ in range(n)]\n",
    "        y = [uniform(0, 10) for _ in range(n)]\n",
    "        costs= [uniform(-10,10) for _ in range(n*(n-1))]\n",
    "        return TSPIntance(x=x, y=y, costs=costs)"
   ]
  },
  {
   "cell_type": "code",
   "execution_count": 115,
   "metadata": {},
   "outputs": [],
   "source": [
    "class TSPSolution: #this is what our sole method returns\n",
    "    tour: Tour \n",
    "    cost: float\n",
    "\n",
    "    def __init__(self, tour: Tour, **kwargs):\n",
    "        assert 'cost' in kwargs or 'instance' in kwargs, \\\n",
    "            \"You must pass the tour cost or a TSP instance to compute it\"\n",
    "\n",
    "        if 'cost' in kwargs:\n",
    "            self.cost = kwargs.get('cost')\n",
    "        elif 'instance' in kwargs:\n",
    "            tsp = kwargs.get('instance')\n",
    "            self.cost = sum(\n",
    "                tsp.cost[i, j]\n",
    "                for i in tour[:-1]\n",
    "                for j in tour[1:]\n",
    "            )\n",
    "\n",
    "        self.tour = tour\n",
    "\n",
    "    def __str__(self) -> str:\n",
    "        return \"[\" + ', '.join(map(str, self.tour)) + f\"] - Cost: {self.cost:.2f}\""
   ]
  },
  {
   "cell_type": "code",
   "execution_count": 116,
   "metadata": {},
   "outputs": [],
   "source": [
    "class BranchAndCutIntegerSolver:\n",
    "    tsp: TSPIntance\n",
    "    m: Model\n",
    "    x: tupledict\n",
    "\n",
    "    def __init__(self, tsp: TSPIntance):\n",
    "        self.tsp = tsp\n",
    "        self.m = Model()\n",
    "        self.x = self.m.addVars(self.tsp.arcs(), obj=self.tsp.cost, vtype=GRB.BINARY, name='x') #here we define Xij\n",
    "        self.__build_model()\n",
    "\n",
    "    def __build_model(self) -> None:\n",
    "        self.m.addConstr(self.x.sum(0, '*') == 1) # only one outgoing  arc from source.\n",
    "        self.m.addConstr(self.x.sum('*', self.tsp.n-1) == 1 ) # only one incoming  arc to sink.\n",
    "        self.m.addConstrs(self.x.sum(i, '*') == self.x.sum('*',i) for i in range(1, self.tsp.n - 1)) # todo lo que entra, sale\n",
    "        self.m.addConstr(self.x.sum(self.tsp.n-1, '*') == 0 ) # no outgoing arcs from sink\n",
    "        self.m.addConstr(self.x.sum('*', 0) == 0 ) # no incoming arcs to source\n",
    "        self.m.addConstrs((self.x.sum(i, '*') <=1 for i in self.tsp.vertices())) # one outgoing arc at most\n",
    "        \n",
    "        \n",
    "    def solve(self) -> TSPSolution:\n",
    "        self.m.setParam(GRB.Param.LazyConstraints, 1) \n",
    "        self.m.optimize(lambda _, where: self.__find_subtours(where=where)) #here we call the optimize gurobi function, that solves the problem.\n",
    "        #                      we don't care about the first argument of m.optimize (a Model), so we write '_' in the lambda\n",
    "        #                        our second parameter is a number that tells us where we are in the solution function. \n",
    "        #                        we will use it to check when we are at a possible feasible sol, so then we check for subsets (sub_tours). \n",
    "\n",
    "        if self.m.Status != GRB.OPTIMAL:\n",
    "            raise RuntimeError(\"Could not solve TSP model to optimality\")\n",
    "        \n",
    "        return TSPSolution(tour=self.__tour_starting_at(0), cost=self.m.ObjVal)\n",
    "    \n",
    "    def __find_subtours(self, where: int) -> None: #here we will look for sub_tours\n",
    "        if where != GRB.Callback.MIPSOL: #MIPSOL means gurobi found a possibly feasible solution, which is what we  are looking for now. \n",
    "            return\n",
    "        \n",
    "        remaining = set(self.tsp.vertices()) #these are the vertices we are yet to explore. at first we have all of them\n",
    "\n",
    "        while len(remaining) > 0:\n",
    "            # Get the first vertex of the set\n",
    "            start = next(iter(remaining))\n",
    "            subtour = self.__tour_starting_at(start)\n",
    "            \n",
    "            #except TypeError:\n",
    "            #    print(start, list(remaining) )\n",
    "        \n",
    "            if subtour == [start] or subtour[-1]==self.tsp.n-1 or len(subtour)<2:\n",
    "                return\n",
    "                    \n",
    "            self.__add_sec_for(subtour)\n",
    "\n",
    "            remaining -= set(subtour)\n",
    "\n",
    "    def __tour_starting_at(self, i) -> Tour: #we start out tour at i, and keep adding vertices to our tour until we run into i again.\n",
    "        tour = [i] \n",
    "        current = self.__next_vertex(i=i)\n",
    "\n",
    "        if current is None: #for vertices that are not in optimal sol, we will find no next vertex.\n",
    "            return tour          \n",
    "            \n",
    "        while current != i : #esto acaba con el sink o con i \n",
    "            tour.append(current)\n",
    "            if current == self.tsp.n-1:\n",
    "                break\n",
    "            current = self.__next_vertex(current)\n",
    "\n",
    "        return tour\n",
    "\n",
    "    def __next_vertex(self, i: Vertex) -> Vertex: #this function moves on to another vertex during our sub_tour search. \n",
    "        for j in self.tsp.vertices():\n",
    "            if j == i:\n",
    "                continue\n",
    "            try:\n",
    "                # When in a callback\n",
    "                x = self.m.cbGetSolution(self.x[i,j]) #this is our way to aquire the value of X before reaching the Solution. \n",
    "            except GurobiError:\n",
    "                # When optimisation is over\n",
    "                x = self.x[i,j].X  # this is the way to reach our value after we reach the optimum. \n",
    "\n",
    "            if x > 0.5: #gurobi makes small errors so not all x's will be exactly 1. This is why we write x>0.5 \n",
    "                return j\n",
    "            \n",
    "        return None\n",
    "    \n",
    "    def __add_sec_for(self, subtour: Tour) -> None:\n",
    "        print(\"Adding subtour for [\" + ', '.join(map(str, subtour)) + \"]\")\n",
    "        self.m.cbLazy(\n",
    "            sum(\n",
    "                self.x[i, j]\n",
    "                for i, j in subtour \n",
    "                \n",
    "            ) <= len(subtour)-1\n",
    "        )"
   ]
  },
  {
   "cell_type": "code",
   "execution_count": 117,
   "metadata": {},
   "outputs": [
    {
     "name": "stdout",
     "output_type": "stream",
     "text": [
      "Set parameter LazyConstraints to value 1\n",
      "Gurobi Optimizer version 11.0.3 build v11.0.3rc0 (linux64 - \"Ubuntu 22.04.5 LTS\")\n",
      "\n",
      "CPU model: Intel(R) Core(TM) i7-10510U CPU @ 1.80GHz, instruction set [SSE2|AVX|AVX2]\n",
      "Thread count: 4 physical cores, 8 logical processors, using up to 8 threads\n",
      "\n",
      "Optimize a model with 8 rows, 6 columns and 18 nonzeros\n",
      "Model fingerprint: 0x0778b504\n",
      "Variable types: 0 continuous, 6 integer (6 binary)\n",
      "Coefficient statistics:\n",
      "  Matrix range     [1e+00, 1e+00]\n",
      "  Objective range  [3e+00, 1e+01]\n",
      "  Bounds range     [1e+00, 1e+00]\n",
      "  RHS range        [1e+00, 1e+00]\n",
      "Presolve removed 8 rows and 5 columns\n",
      "Presolve time: 0.00s\n",
      "Presolved: 0 rows, 1 columns, 0 nonzeros\n",
      "Variable types: 0 continuous, 1 integer (1 binary)\n",
      "Found heuristic solution: objective -2.4630369\n",
      "\n",
      "Explored 0 nodes (0 simplex iterations) in 0.03 seconds (0.00 work units)\n",
      "Thread count was 8 (of 8 available processors)\n",
      "\n",
      "Solution count 1: -2.46304 \n",
      "No other solutions better than -2.46304\n",
      "\n",
      "Optimal solution found (tolerance 1.00e-04)\n",
      "Best objective -2.463036911220e+00, best bound -2.463036911220e+00, gap 0.0000%\n",
      "\n",
      "User-callback calls 114, time in user-callback 0.01 sec\n"
     ]
    }
   ],
   "source": [
    "tsp = TSPIntance.random(n=3)\n",
    "solver = BranchAndCutIntegerSolver(tsp=tsp)\n",
    "solution = solver.solve()"
   ]
  },
  {
   "cell_type": "code",
   "execution_count": 118,
   "metadata": {},
   "outputs": [
    {
     "name": "stdout",
     "output_type": "stream",
     "text": [
      "[0, 1, 2] - Cost: -2.46\n"
     ]
    }
   ],
   "source": [
    "print(solution)"
   ]
  },
  {
   "cell_type": "code",
   "execution_count": 119,
   "metadata": {},
   "outputs": [
    {
     "name": "stdout",
     "output_type": "stream",
     "text": [
      "{(0, 1): -7.135965330138141, (0, 2): 6.028695492321216, (1, 0): -7.872044584220426, (1, 2): 4.672928418918032, (2, 0): -9.615554771375914, (2, 1): 2.6151033811237454}\n"
     ]
    }
   ],
   "source": [
    "print(tsp.cost)"
   ]
  },
  {
   "cell_type": "code",
   "execution_count": null,
   "metadata": {},
   "outputs": [],
   "source": []
  }
 ],
 "metadata": {
  "kernelspec": {
   "display_name": "Python 3",
   "language": "python",
   "name": "python3"
  },
  "language_info": {
   "codemirror_mode": {
    "name": "ipython",
    "version": 3
   },
   "file_extension": ".py",
   "mimetype": "text/x-python",
   "name": "python",
   "nbconvert_exporter": "python",
   "pygments_lexer": "ipython3",
   "version": "3.11.10"
  }
 },
 "nbformat": 4,
 "nbformat_minor": 2
}
