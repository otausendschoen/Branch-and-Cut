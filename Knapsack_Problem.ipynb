{
 "cells": [
  {
   "cell_type": "markdown",
   "metadata": {},
   "source": [
    "# Branch-and-cut for the 0–1 Knapsack Problem"
   ]
  },
  {
   "cell_type": "markdown",
   "metadata": {},
   "source": [
    "## Task 1: Primal Heuristic"
   ]
  },
  {
   "cell_type": "code",
   "execution_count": null,
   "metadata": {},
   "outputs": [],
   "source": [
    "#testing variables:\n",
    "\n",
    "p=[5,4,3,5,4,5]\n",
    "w=[2,2,2,4,4,6,]\n",
    "\n",
    "items = [\n",
    "    {\"w\": 2, \"p\": 5},\n",
    "    {\"w\": 2, \"p\": 4},\n",
    "    {\"w\": 2, \"p\": 3},\n",
    "    {\"w\": 4, \"p\": 5}\n",
    "]\n",
    "\n",
    "c = 10\n",
    "a=c"
   ]
  },
  {
   "cell_type": "code",
   "execution_count": 16,
   "metadata": {},
   "outputs": [
    {
     "name": "stdout",
     "output_type": "stream",
     "text": [
      "{'w': 5, 'p': 10}\n",
      "{'w': 8, 'p': 10}\n",
      "{'w': 7, 'p': 8}\n",
      "{'w': 5, 'p': 4}\n",
      "{'w': 8, 'p': 8}\n",
      "{'w': 2, 'p': 4}\n",
      "{'w': 7, 'p': 6}\n",
      "{'w': 1, 'p': 10}\n",
      "{'w': 10, 'p': 3}\n",
      "{'w': 6, 'p': 10}\n"
     ]
    }
   ],
   "source": [
    "import random\n",
    "\n",
    "def generate_random_items(num_items):\n",
    "    items = []\n",
    "    for _ in range(num_items):\n",
    "        # Generate random weights and profits within a similar range as the example\n",
    "        weight = random.randint(1, 10)  # Random weight between 1 and 10\n",
    "        profit = random.randint(1, 10)  # Random profit between 1 and 10\n",
    "        items.append({\"w\": weight, \"p\": profit})\n",
    "    return items\n",
    "\n",
    "# Generate a list of 1000 items\n",
    "random_items = generate_random_items(1000)\n",
    "\n",
    "# Display the first 10 items to check\n",
    "for item in random_items[:10]:\n",
    "    print(item)\n"
   ]
  },
  {
   "cell_type": "code",
   "execution_count": 18,
   "metadata": {},
   "outputs": [
    {
     "name": "stdout",
     "output_type": "stream",
     "text": [
      "(99, [{'w': 1, 'p': 10}, {'w': 1, 'p': 10}, {'w': 1, 'p': 10}, {'w': 1, 'p': 10}, {'w': 1, 'p': 10}, {'w': 1, 'p': 10}, {'w': 1, 'p': 10}, {'w': 1, 'p': 10}, {'w': 1, 'p': 10}, {'w': 1, 'p': 9}], 10)\n"
     ]
    }
   ],
   "source": [
    "def knapsack_greedy_heuristic(items, c):\n",
    "    #no need to sort\n",
    "    items=sorted(items, key = lambda x: x['p']/x['w'], reverse = True)\n",
    "    total_value=0\n",
    "    total_weight=0\n",
    "    packed_items = []\n",
    "    for item in items:\n",
    "        if total_weight + item['w']<=c:\n",
    "            packed_items.append(item)\n",
    "            total_weight += item['w']\n",
    "            total_value += item ['p']\n",
    "    return total_value, packed_items, total_weight\n",
    "\n",
    "print(knapsack_greedy_heuristic(random_items, c))\n"
   ]
  },
  {
   "cell_type": "markdown",
   "metadata": {},
   "source": [
    "Lets create our shortest path code"
   ]
  },
  {
   "cell_type": "markdown",
   "metadata": {},
   "source": [
    "# OUR CODE "
   ]
  },
  {
   "cell_type": "code",
   "execution_count": null,
   "metadata": {},
   "outputs": [],
   "source": [
    "Vertex = int #(0,1,2,3,4,...)\n",
    "Arc = Tuple[Vertex, Vertex]\n",
    "Tour = List[Vertex]\n",
    "\n",
    "class TSPIntance:\n",
    "    n: int\n",
    "    x: List[float]\n",
    "    y: List[float]\n",
    "    cost: Dict[Arc, float]\n",
    "\n",
    "    def __init__(self, x: List[float], y: List[float]):\n",
    "        assert len(x) == len(y), \"X and Y coordinate lists must have the same length\"\n",
    "\n",
    "        self.n = len(x)\n",
    "        self.x = x\n",
    "        self.y = y\n",
    "        self.cost = {\n",
    "            (i, j): ((self.x[i] - self.x[j])**2 + (self.y[i] - self.y[j])**2)**0.5\n",
    "            for i in self.vertices()\n",
    "            for j in self.vertices()\n",
    "            if i != j\n",
    "        }\n",
    "\n",
    "    def vertices(self) -> Iterable[Vertex]:\n",
    "        return range(self.n)\n",
    "    \n",
    "    def arcs(self) -> KeysView:\n",
    "        return self.cost.keys()\n",
    "\n",
    "    @staticmethod #create a TSP instance to test our code\n",
    "    def random(n: int) -> TSPIntance:\n",
    "        x = [uniform(0, 10) for _ in range(n)]\n",
    "        y = [uniform(0, 10) for _ in range(n)]\n",
    "        return TSPIntance(x=x, y=y)"
   ]
  },
  {
   "cell_type": "code",
   "execution_count": null,
   "metadata": {},
   "outputs": [],
   "source": [
    "class TSPSolution:\n",
    "    tour: Tour\n",
    "    cost: float\n",
    "\n",
    "    def __init__(self, tour: Tour, **kwargs):\n",
    "        assert 'cost' in kwargs or 'instance' in kwargs, \\\n",
    "            \"You must pass the tour cost or a TSP instance to compute it\"\n",
    "\n",
    "        if 'cost' in kwargs:\n",
    "            self.cost = kwargs.get('cost')\n",
    "        elif 'instance' in kwargs:\n",
    "            tsp = kwargs.get('instance')\n",
    "            self.cost = sum(\n",
    "                tsp.cost[i, j]\n",
    "                for i in tour[:-1]\n",
    "                for j in tour[1:]\n",
    "            )\n",
    "\n",
    "        self.tour = tour\n",
    "\n",
    "    def __str__(self) -> str:\n",
    "        return \"[\" + ', '.join(map(str, self.tour)) + f\"] - Cost: {self.cost:.2f}\""
   ]
  },
  {
   "cell_type": "code",
   "execution_count": null,
   "metadata": {},
   "outputs": [],
   "source": [
    "class BranchAndCutIntegerSolver:\n",
    "    tsp: TSPIntance\n",
    "    m: Model\n",
    "    x: tupledict\n",
    "\n",
    "    def __init__(self, tsp: TSPIntance):\n",
    "        self.tsp = tsp\n",
    "        self.m = Model()\n",
    "        self.x = self.m.addVars(self.tsp.arcs(), obj=self.tsp.cost, vtype=GRB.BINARY, name='x')\n",
    "        self.__build_model()\n",
    "\n",
    "    def __build_model(self) -> None:\n",
    "        self.m.addConstrs(self.x.sum(i, '*') == 1 for i in self.tsp.vertices())#sums ij: we add a constraint for all i's #constraint: all only one incoming trip to a customer\n",
    "        self.m.addConstrs(self.x.sum('*', i) == 1 for i in self.tsp.vertices())#sums ji: we add a constraint #only one outgoing trip to customer\n",
    "\n",
    "    def solve(self) -> TSPSolution:\n",
    "        self.m.setParam(GRB.Param.LazyConstraints, 1) #lazy sonstraints are going to be used\n",
    "        self.m.optimize(lambda _, where: self.__separate(where=where)) #optimize: solve this gruobi! we sepcify 2 parameters to check finding the subgroups \n",
    "        #lamda has two arguments: The model and the int number: _ (=ignoring the Model as we have \n",
    "        # it safed anyways in the class BranchAndCutIntegerSolver \"model\") and \n",
    "\n",
    "        if self.m.Status != GRB.OPTIMAL:\n",
    "            raise RuntimeError(\"Could not solve TSP model to optimality\")\n",
    "        \n",
    "        return TSPSolution(tour=self.__tour_starting_at(0), cost=self.m.ObjVal)\n",
    "    \n",
    "    def __separate(self, where: int) -> None: #= __find_subtours\n",
    "        if where != GRB.Callback.MIPSOL: #See documentations of callback online, SO: when we don't find a feasable int solution we return\n",
    "            return\n",
    "        \n",
    "        remaining = set(self.tsp.vertices()) #the nodes we still have to explore, at first we have all of them\n",
    "\n",
    "        while len(remaining) > 0:\n",
    "            # Get the first vertex of the set\n",
    "            start = remaining.pop()\n",
    "            #start = next(iter(remaining))\n",
    "            subtour = self.__tour_starting_at(start)\n",
    "\n",
    "            if len(subtour) == self.tsp.n:\n",
    "                # Feasible tour visiting all vertices\n",
    "                return\n",
    "            \n",
    "            self.__add_sec_for(subtour)\n",
    "\n",
    "            remaining -= set(subtour) #convert subtour into set because we cannot do set-= list\n",
    "\n",
    "    def __tour_starting_at(self, i: Vertex) -> Tour:#e.g.: subset (2,3,7), i=2, tour =[2], current = 3 -next iteration: tour = [2,3], current = 7, -next iteration: tour = [2,3,7], current = 2 -\n",
    "        #2 is not different form 2 so the last one is the subtour\n",
    "        tour = [i]\n",
    "        current = self.__next_vertex(i=i)\n",
    "\n",
    "        while current != i:\n",
    "            tour.append(current)\n",
    "            current = self.__next_vertex(current)\n",
    "\n",
    "        return tour\n",
    "\n",
    "    def __next_vertex(self, i: Vertex) -> Vertex: #check which vertex we are going to \n",
    "        for j in self.tsp.vertices():#for all vertices except itself, check which one we are going to:\n",
    "            if j == i:\n",
    "                continue\n",
    "\n",
    "            try:\n",
    "                # When in a callback\n",
    "                x = self.m.cbGetSolution(self.x[i,j]) #we cannot use x[i,j].X when using callbacki\n",
    "            except GurobiError: #if we fail we use x[i,j].X\n",
    "                # When optimisation is over\n",
    "                x = self.x[i,j].X #2 is not different form 2 s\n",
    "\n",
    "            if x > 0.5:\n",
    "                return j\n",
    "            \n",
    "        raise RuntimeError(f\"Ve2 is not different form 2 srtex {i} has no successor!\")\n",
    "    \n",
    "#m.cbGetSolution(x[i,j]) during a callback\n",
    "#x[i,j].X after optimization\n",
    "    def __add_sec_for(self, subtour: Tour) -> None:\n",
    "        print(\"Adding a SEC/subtour for [\" + ', '.join(map(str, subtour)) + \"]\")\n",
    "        self.m.cbLazy(\n",
    "            sum(\n",
    "                self.x[i, j]\n",
    "                for i, j in self.tsp.arcs() #using arcs function that contains all valid arcs\n",
    "                if i in subtour and j not in subtour\n",
    "            ) >= 1\n",
    "        )"
   ]
  },
  {
   "cell_type": "code",
   "execution_count": null,
   "metadata": {},
   "outputs": [],
   "source": [
    "tsp = TSPIntance.random(n=20)\n",
    "solver = BranchAndCutIntegerSolver(tsp=tsp)\n",
    "solution = solver.solve()"
   ]
  }
 ],
 "metadata": {
  "kernelspec": {
   "display_name": "optimization",
   "language": "python",
   "name": "python3"
  },
  "language_info": {
   "codemirror_mode": {
    "name": "ipython",
    "version": 3
   },
   "file_extension": ".py",
   "mimetype": "text/x-python",
   "name": "python",
   "nbconvert_exporter": "python",
   "pygments_lexer": "ipython3",
   "version": "3.12.7"
  }
 },
 "nbformat": 4,
 "nbformat_minor": 2
}
