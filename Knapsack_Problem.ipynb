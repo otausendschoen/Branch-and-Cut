{
 "cells": [
  {
   "cell_type": "markdown",
   "metadata": {},
   "source": [
    "# Branch-and-cut for the 0–1 Knapsack Problem"
   ]
  },
  {
   "cell_type": "markdown",
   "metadata": {},
   "source": [
    "## Task 1: Primal Heuristic"
   ]
  },
  {
   "cell_type": "code",
   "execution_count": null,
   "metadata": {},
   "outputs": [],
   "source": [
    "#testing variables:\n",
    "\n",
    "p=[5,4,3,5,4,5]\n",
    "w=[2,2,2,4,4,6,]\n",
    "\n",
    "items = [\n",
    "    {\"w\": 2, \"p\": 5},\n",
    "    {\"w\": 2, \"p\": 4},\n",
    "    {\"w\": 2, \"p\": 3},\n",
    "    {\"w\": 4, \"p\": 5}\n",
    "]\n",
    "\n",
    "c = 10\n",
    "a=c"
   ]
  },
  {
   "cell_type": "code",
   "execution_count": 16,
   "metadata": {},
   "outputs": [
    {
     "name": "stdout",
     "output_type": "stream",
     "text": [
      "{'w': 5, 'p': 10}\n",
      "{'w': 8, 'p': 10}\n",
      "{'w': 7, 'p': 8}\n",
      "{'w': 5, 'p': 4}\n",
      "{'w': 8, 'p': 8}\n",
      "{'w': 2, 'p': 4}\n",
      "{'w': 7, 'p': 6}\n",
      "{'w': 1, 'p': 10}\n",
      "{'w': 10, 'p': 3}\n",
      "{'w': 6, 'p': 10}\n"
     ]
    }
   ],
   "source": [
    "import random\n",
    "\n",
    "def generate_random_items(num_items):\n",
    "    items = []\n",
    "    for _ in range(num_items):\n",
    "        # Generate random weights and profits within a similar range as the example\n",
    "        weight = random.randint(1, 10)  # Random weight between 1 and 10\n",
    "        profit = random.randint(1, 10)  # Random profit between 1 and 10\n",
    "        items.append({\"w\": weight, \"p\": profit})\n",
    "    return items\n",
    "\n",
    "# Generate a list of 1000 items\n",
    "random_items = generate_random_items(1000)\n",
    "\n",
    "# Display the first 10 items to check\n",
    "for item in random_items[:10]:\n",
    "    print(item)\n"
   ]
  },
  {
   "cell_type": "code",
   "execution_count": 18,
   "metadata": {},
   "outputs": [
    {
     "name": "stdout",
     "output_type": "stream",
     "text": [
      "(99, [{'w': 1, 'p': 10}, {'w': 1, 'p': 10}, {'w': 1, 'p': 10}, {'w': 1, 'p': 10}, {'w': 1, 'p': 10}, {'w': 1, 'p': 10}, {'w': 1, 'p': 10}, {'w': 1, 'p': 10}, {'w': 1, 'p': 10}, {'w': 1, 'p': 9}], 10)\n"
     ]
    }
   ],
   "source": [
    "def knapsack_greedy_heuristic(items, c):\n",
    "    #no need to sort\n",
    "    items=sorted(items, key = lambda x: x['p']/x['w'], reverse = True)\n",
    "    total_value=0\n",
    "    total_weight=0\n",
    "    packed_items = []\n",
    "    for item in items:\n",
    "        if total_weight + item['w']<=c:\n",
    "            packed_items.append(item)\n",
    "            total_weight += item['w']\n",
    "            total_value += item ['p']\n",
    "    return total_value, packed_items, total_weight\n",
    "\n",
    "print(knapsack_greedy_heuristic(random_items, c))\n"
   ]
  }
 ],
 "metadata": {
  "kernelspec": {
   "display_name": "optimization",
   "language": "python",
   "name": "python3"
  },
  "language_info": {
   "codemirror_mode": {
    "name": "ipython",
    "version": 3
   },
   "file_extension": ".py",
   "mimetype": "text/x-python",
   "name": "python",
   "nbconvert_exporter": "python",
   "pygments_lexer": "ipython3",
   "version": "3.12.7"
  }
 },
 "nbformat": 4,
 "nbformat_minor": 2
}
